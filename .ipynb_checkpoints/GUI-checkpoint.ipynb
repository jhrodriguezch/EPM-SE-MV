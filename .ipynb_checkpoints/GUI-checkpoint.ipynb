{
 "cells": [
  {
   "cell_type": "code",
   "execution_count": 1,
   "id": "5de3c02b",
   "metadata": {},
   "outputs": [
    {
     "data": {
      "text/html": [
       "<style>div.output_scroll { height: 70em; }</style>"
      ],
      "text/plain": [
       "<IPython.core.display.HTML object>"
      ]
     },
     "metadata": {},
     "output_type": "display_data"
    }
   ],
   "source": [
    "import os, sys\n",
    "import pandas as pd\n",
    "import numpy as np\n",
    "import matplotlib.pyplot as plt\n",
    "\n",
    "import ipywidgets as widgets\n",
    "from ipywidgets import interact_manual, Layout\n",
    "from IPython.core.display import display, HTML\n",
    "display(HTML(\"<style>div.output_scroll { height: 70em; }</style>\"))\n",
    "\n",
    "directory = os.getcwd()\n",
    "sys.path.insert(1, directory)\n",
    "\n",
    "from Pesca.main import ModeloPesca\n",
    "from Ganaderia.main import ModeloGanaderia\n",
    "from Mineria.main import ModeloMineria\n",
    "\n",
    "from Capitales.kfitt import main as mainkfitt\n",
    "from Capitales.kft import main as mainkft\n",
    "from Capitales.kht import main as mainkht\n",
    "from Capitales.kst import main as mainkst\n"
   ]
  },
  {
   "cell_type": "markdown",
   "id": "07f0b0b7",
   "metadata": {},
   "source": [
    "<h1><center>Servicios ecosistémicos y medios de vida (SE/MV)</center></h1>"
   ]
  },
  {
   "cell_type": "code",
   "execution_count": 2,
   "id": "59f41ed3",
   "metadata": {},
   "outputs": [],
   "source": [
    "# Auxiliar variables\n",
    "        \n",
    "#                      Mes   % De abundancia\n",
    "PAbun = pd.DataFrame({('01', 0.05),\n",
    "                      ('02', 0.05),\n",
    "                      ('03', 0.05),\n",
    "                      ('04', 0.30),\n",
    "                      ('05', 0.30),\n",
    "                      ('06', 0.05),\n",
    "                      ('07', 0.05),\n",
    "                      ('08', 0.05), \n",
    "                      ('09', 0.05),\n",
    "                      ('10', 0.05),\n",
    "                      ('11', 0.05),\n",
    "                      ('12', 0.05)}, columns=['Mes', 'Porcentaje'])\n",
    "\n",
    "cond_ini = False\n",
    "cond_ini_pes = False\n",
    "cond_ini_gan = False\n",
    "cond_ini_min = False\n",
    "cond_ini_merge = False\n",
    "\n",
    "cond_ini_kst = False\n",
    "cond_ini_kht = False\n",
    "cond_ini_kfitt = False"
   ]
  },
  {
   "cell_type": "markdown",
   "id": "23830c98",
   "metadata": {},
   "source": [
    "<b>Trayectoria</b>\n",
    "<p>Seleciona la trayectoria a trabajar.</p>"
   ]
  },
  {
   "cell_type": "code",
   "execution_count": 7,
   "id": "52cb30fd",
   "metadata": {},
   "outputs": [
    {
     "data": {
      "application/vnd.jupyter.widget-view+json": {
       "model_id": "d48e165fce4843718db53b2b182885ad",
       "version_major": 2,
       "version_minor": 0
      },
      "text/plain": [
       "interactive(children=(Dropdown(description='file', options=(('Año Tipo Humedo ', 'Año_Tipo_Humedo_SocialInput.…"
      ]
     },
     "metadata": {},
     "output_type": "display_data"
    }
   ],
   "source": [
    "# SELECTOR DATA\n",
    "names =[file[:-15].replace('_', ' ') for file in os.listdir('input')]\n",
    "files = os.listdir('input')\n",
    "@interact_manual(file = [(ii[0], ii[1]) for ii in list(zip(names, files))])\n",
    "def selec_trayectoria(file):\n",
    "    global loc\n",
    "    \n",
    "    loc = os.path.join('input', file)\n",
    "    df_init = pd.read_csv(loc)\n",
    "    \n",
    "    df_neu = pd.read_csv(os.path.join('input', 'Año_Tipo_Neutro_SocialInput.csv'))\n",
    "    \n",
    "    sitios = list(np.unique(df_init.loc[0]))\n",
    "    sitios.remove('Sector')\n",
    "    especies = list(np.unique(df_init.loc[1]))\n",
    "    especies.remove('Especie')\n",
    "    especies.remove('Nivel')\n",
    "    \n",
    "    @interact_manual(sitio = sitios,\n",
    "                     especie = especies)\n",
    "    def selec_sitio_especie(sitio, especie):\n",
    "        \n",
    "        global df_res, cond_ini, NeuData\n",
    "        \n",
    "        col1 = list(np.array(df_init.columns[df_init.iloc[1] == especie]))\n",
    "        col1 += list(np.array(df_init.columns[df_init.iloc[1] == 'Nivel']))\n",
    "        col2 = list(np.array(df_init.columns[df_init.iloc[0] == sitio]))\n",
    "        col3 = list(set(col1).intersection(col2))\n",
    "        col3.insert(0, 'Fecha')\n",
    "        \n",
    "        df_slice = df_init[col3].copy()\n",
    "        df_neu_slice = df_neu[col3].copy()\n",
    "        \n",
    "        NeuData = pd.DataFrame()\n",
    "        NeuData['Mes'] = pd.to_datetime(df_neu_slice.loc[3:, 'Fecha'], format='%Y-%m-%d').dt.strftime('%m')\n",
    "        NeuData['Area Neutro'] = df_neu_slice.loc[3:, df_neu_slice.columns[df_neu_slice.iloc[2] == 'Area ha']].astype(float)\n",
    "        NeuData.reset_index(drop=True, inplace=True)\n",
    "        \n",
    "        df_res = pd.DataFrame()\n",
    "        df_res['Date']  = pd.to_datetime(df_slice.loc[3:, 'Fecha'], format='%Y-%m-%d').dt.strftime('%d-%m-%Y')\n",
    "        df_res['WUA']   = df_slice.loc[3:, df_slice.columns[df_slice.iloc[2] == 'WUA ha']]\n",
    "        df_res['Area']  = df_slice.loc[3:, df_slice.columns[df_slice.iloc[2] == 'Area ha']]\n",
    "        df_res['Nivel'] = df_slice.loc[3:, df_slice.columns[df_slice.iloc[2] == 'Promedio_Nivel_(m)']]\n",
    "        df_res.reset_index(drop=True, inplace=True)\n",
    "        \n",
    "        df_res['WUA'] = df_res['WUA'].astype(float)\n",
    "        df_res['Area'] = df_res['Area'].astype(float)\n",
    "        df_res['Nivel'] = df_res['Nivel'].astype(float)\n",
    "        \n",
    "        print('Trayectoria selecionada correctamente.')\n",
    "        cond_ini = True"
   ]
  },
  {
   "cell_type": "markdown",
   "id": "f07765da",
   "metadata": {},
   "source": [
    "<center><b>Modelo de Servicios ecosistémicos y de medios de vida</b></center>\n",
    "<b>Modelo de Pesca</b>\n",
    "\n",
    "<div>\n",
    "<p>Ecuaciones generales del modelo:</p>\n",
    "<br>\n",
    "<center>\n",
    "$\\frac{Abundancia}{dt} = Reclutamiento - Decrecimiento - Captura$\n",
    "<br>\n",
    "<br>\n",
    "$\\frac{Capital financiero}{dt} = Ventas - Costos$\n",
    "</center>\n",
    "<br>\n",
    "</div>\n"
   ]
  },
  {
   "cell_type": "code",
   "execution_count": 8,
   "id": "3c3abe06",
   "metadata": {},
   "outputs": [
    {
     "data": {
      "application/vnd.jupyter.widget-view+json": {
       "model_id": "7f96ab8e242f4d3f9e6f03870d0685c9",
       "version_major": 2,
       "version_minor": 0
      },
      "text/plain": [
       "interactive(children=(Button(description='Run Interact', style=ButtonStyle()), Output()), _dom_classes=('widge…"
      ]
     },
     "metadata": {},
     "output_type": "display_data"
    }
   ],
   "source": [
    "@interact_manual()\n",
    "def mod_pes_run():\n",
    "    if cond_ini == True:\n",
    "        # Modelo pesca\n",
    "        global prereclutas_res, abundacia_res, capital_financiero_res, cond_ini_pes, clima_tipo\n",
    "        \n",
    "        # Valores iniciales\n",
    "        abundancia_ini = 107013\n",
    "        cap_financiero_init = 0\n",
    "\n",
    "        # Parámetros\n",
    "        par_prereclutas = {'Individuos por ha' : 4,\n",
    "                           'Porcentaje hembras': 0.5,\n",
    "                           'Porcentaje maduros': 0.5,\n",
    "                           'Desove por individuo': 981000,\n",
    "                           'Porcentaje de abundancia': PAbun,\n",
    "                           'Porcentaje de supervivencia': 0.01/100}\n",
    "        \n",
    "        par_serv_ecosi = {'Tasa de mortalidad' : 0.0383333, \n",
    "                          'Pescadores': 1323,\n",
    "                          'Captura potencial promedio': 10.5,\n",
    "                          'Porcentaje de captura': 0.2186,\n",
    "                          'Peso por individuo - promedio' : 4.58,\n",
    "                          'Peso por individuo - des. estandar' : 3.60,\n",
    "                          'Peso por individuo - mínimo': 0.216,\n",
    "                          'Peso por individuo - máximo': 27.460}\n",
    "        par_cap_fin = {'Porcentaje de autoconsumo' : 0.013,\n",
    "                       'Precio por libra - promedio' : 4388.631217,\n",
    "                       'Precio por libra - minimo' : 700,\n",
    "                       'Precio por libra - maximo' : 10000,\n",
    "                       'Precio por libra - desv. estandar' : 1076.245027,\n",
    "                       'Costos mensuales': 18943*30}\n",
    "\n",
    "        foo = ModeloPesca(df_res, NeuData)\n",
    "        prereclutas_res = foo.prereclutas_fun(par_prereclutas)\n",
    "        abundacia_res = foo.servicio_ecosistemico_fun(abundancia_ini, prereclutas_res, par_serv_ecosi)\n",
    "        capital_financiero_res = foo.capital_financiero_fun(cap_financiero_init, abundacia_res, par_cap_fin)\n",
    "        print('Modelo de pesca ejecutado.')\n",
    "        \n",
    "        clima_tipo = list(foo.wua_df['type'])\n",
    "        \n",
    "        cond_ini_pes = True\n",
    "    else:\n",
    "        print('Por favor, selecione la trayectoria.')"
   ]
  },
  {
   "cell_type": "markdown",
   "id": "507734c4",
   "metadata": {},
   "source": [
    "<b>Modelo de ganadería</b>\n",
    "\n",
    "<p>Ecuaciones generales del modelo:</p>\n",
    "<br>\n",
    "<center>\n",
    "$\\frac{Área\\_de\\_pastos}{dt} = Deforestación + Potrerización + Cultivos\\_a\\_pastos + Desecación - Reforestación - Pastos\\_a\\_cultivos - Inudación$\n",
    "<br>\n",
    "<br>\n",
    "<center>\n",
    "$\\frac{Cabezas\\_de\\_ganado\\_por\\_ha}{dt} = Cabezas\\_nuevas - Cabezas\\_vendidas - Muertes\\_de\\_cabezas\\_de\\_ganado$\n",
    "<br>\n",
    "<br>\n",
    "$\\frac{Capital\\_financiero}{dt} = Ventas - Inversión - Disminución\\_de\\_KF$\n",
    "</center>\n",
    "<br>"
   ]
  },
  {
   "cell_type": "code",
   "execution_count": 9,
   "id": "c4fcb4b1",
   "metadata": {},
   "outputs": [
    {
     "data": {
      "application/vnd.jupyter.widget-view+json": {
       "model_id": "0217ae9d9fff4c8eb9c1358b3dc3c949",
       "version_major": 2,
       "version_minor": 0
      },
      "text/plain": [
       "interactive(children=(Button(description='Run Interact', style=ButtonStyle()), Output()), _dom_classes=('widge…"
      ]
     },
     "metadata": {},
     "output_type": "display_data"
    }
   ],
   "source": [
    "@interact_manual()\n",
    "def mod_pes_gan():\n",
    "    if cond_ini == True:\n",
    "        # Modelo de ganadería\n",
    "        global eco_df, gan_df, kfg_df, cond_ini_gan\n",
    "        \n",
    "        # Valores iniciales\n",
    "        init_area = [549555, 138368, 289196, 242597, 0]\n",
    "        init_gan = 1\n",
    "        init_kfg = 330000\n",
    "        \n",
    "        para = {'Tasa de reforestación' : 0.00116667,\n",
    "                'Tasa de deforestación' : 0.12,\n",
    "                'Tasa de pastos a cultivos' : 0.24,\n",
    "                'Tasa de cultivos a pastos' : 0.24,\n",
    "                'Tasa de poterización' : 0.02,\n",
    "                'Tiempo de desinundación' : 1,\n",
    "\n",
    "                'CC por hectareas' : 2,\n",
    "                'Tasa de mortalidad natural' : 0.1,\n",
    "                'Porcentaje por ventas' : 0.2,\n",
    "                'Tasa de natalidad vs rel. vacas - Tasa de natalidad': [0.0,\n",
    "                                                                        0.2,\n",
    "                                                                        0.4,\n",
    "                                                                        0.6,\n",
    "                                                                        0.8,\n",
    "                                                                        1.0,\n",
    "                                                                        1.2,\n",
    "                                                                        1.4,\n",
    "                                                                        1.6,\n",
    "                                                                        1.8,\n",
    "                                                                        2.0],\n",
    "                'Tasa de natalidad vs rel. vacas - Relación vacas CC': [0.9933,\n",
    "                                                                        0.982,\n",
    "                                                                        0.9526,\n",
    "                                                                        0.8808,\n",
    "                                                                        0.7311,\n",
    "                                                                        0.3,\n",
    "                                                                        0.192,\n",
    "                                                                        0.1192,\n",
    "                                                                        0.04743,\n",
    "                                                                        0.01799,\n",
    "                                                                        0.006693],\n",
    "\n",
    "                'Precio por macho' : 2090000,\n",
    "                'Precio por hembra' : 1382500,\n",
    "                'Fración machos' : 0.38,\n",
    "                'Fracción hembras' : 0.62,\n",
    "                'Insumos' : 0.9,\n",
    "                'Afectación al KF vs Pas. inundados - Pas. inundados' : [0.0000,\n",
    "                                                                         0.09091,\n",
    "                                                                         0.1818,\n",
    "                                                                         0.2727,\n",
    "                                                                         0.3636,\n",
    "                                                                         0.4545,\n",
    "                                                                         0.5455,\n",
    "                                                                         0.6364,\n",
    "                                                                         0.7273,\n",
    "                                                                         0.8182,\n",
    "                                                                         0.9091,\n",
    "                                                                         1.000],\n",
    "\n",
    "                'Afectación al KF vs Pas. inundados - Afectación al KF' : [0.000,\n",
    "                                                                           0.1818,\n",
    "                                                                           0.3636,\n",
    "                                                                           0.5455,\n",
    "                                                                           0.7273,\n",
    "                                                                           0.9091,\n",
    "                                                                           1.091,\n",
    "                                                                           1.273,\n",
    "                                                                           1.455,\n",
    "                                                                           1.636,\n",
    "                                                                           1.818,\n",
    "                                                                           2.000],\n",
    "                }\n",
    "        \n",
    "        foo = ModeloGanaderia(hd_data=df_res, para=para)\n",
    "        foo.precalc()\n",
    "        eco_df = foo.eco_area(init_area)\n",
    "        gan_df = foo.ganaderia(init_gan, eco_df)\n",
    "        kfg_df = foo.kf_modelo_ganaderia(init_kfg, gan_df, eco_df)\n",
    "        \n",
    "        print('Modelo de ganaderia ejecutado.')\n",
    "        cond_ini_gan = True\n",
    "    else:\n",
    "        print('Por favor, selecione la trayectoria.')"
   ]
  },
  {
   "cell_type": "markdown",
   "id": "24857e19",
   "metadata": {},
   "source": [
    "<b>Modelo de minería</b>\n",
    "\n",
    "<p>Ecuaciones generales del modelo:</p>\n",
    "<br>\n",
    "<center>\n",
    "$\\frac{Oro\\_extraido}{dt} = Extración\\_de\\_oro - Ventas$\n",
    "<br>\n",
    "<br>\n",
    "<center>\n",
    "$\\frac{KF\\_Minería}{dt} = Ingresos\\_totales\\_KFM - Costos\\_minería$\n",
    "<br>"
   ]
  },
  {
   "cell_type": "code",
   "execution_count": 10,
   "id": "07f8b827",
   "metadata": {},
   "outputs": [
    {
     "data": {
      "application/vnd.jupyter.widget-view+json": {
       "model_id": "a0f91459653a4072943eb39116bb3b5f",
       "version_major": 2,
       "version_minor": 0
      },
      "text/plain": [
       "interactive(children=(Button(description='Run Interact', style=ButtonStyle()), Output()), _dom_classes=('widge…"
      ]
     },
     "metadata": {},
     "output_type": "display_data"
    }
   ],
   "source": [
    "@interact_manual()\n",
    "def mod_pes_gan():\n",
    "    if cond_ini == True:\n",
    "        # Modelo minería\n",
    "        global oro_df, kfmin_df, cond_ini_min\n",
    "        \n",
    "        # Valores iniciales\n",
    "        init_oro = 0\n",
    "        init_kfm = 0\n",
    "        \n",
    "        para = {'Nivel referencia de productividad': 28.5,\n",
    "                'Productividad por área': 842.61355937,\n",
    "                'Oro vendido': 302.6224991,\n",
    "                'Precio gramo de oro' : 207842.96,\n",
    "                'Costos': 95681.64}\n",
    "        \n",
    "        foo = ModeloMineria(hd_data=df_res, para=para)\n",
    "        foo.precalc()\n",
    "        oro_df = foo.oro_extraido(init_oro)\n",
    "        kfmin_df = foo.kf_modelo_mineria(init_kfm, oro_df)\n",
    "        \n",
    "        print('Modelo de minería ejecutado.')\n",
    "        cond_ini_min = True\n",
    "    else:\n",
    "        print('Por favor, minería la trayectoria.')"
   ]
  },
  {
   "cell_type": "markdown",
   "id": "888cf274",
   "metadata": {},
   "source": [
    "<p>Resultados de los modelos</p>"
   ]
  },
  {
   "cell_type": "code",
   "execution_count": 11,
   "id": "d9314f4a",
   "metadata": {},
   "outputs": [
    {
     "data": {
      "application/vnd.jupyter.widget-view+json": {
       "model_id": "5d0c41db23684a46ace28041129e5f0c",
       "version_major": 2,
       "version_minor": 0
      },
      "text/plain": [
       "interactive(children=(Button(description='Run Interact', style=ButtonStyle()), Output()), _dom_classes=('widge…"
      ]
     },
     "metadata": {},
     "output_type": "display_data"
    }
   ],
   "source": [
    "@interact_manual()\n",
    "def print_results():\n",
    "    if cond_ini_pes and cond_ini_gan and cond_ini_min:\n",
    "        global res_merged, cond_ini_merge\n",
    "        \n",
    "        # Fix\n",
    "        prereclutas_res['Fecha'] = prereclutas_res['Date']\n",
    "        prereclutas_res.drop('Date', axis=1, inplace=True)\n",
    "\n",
    "        abundacia_res['Fecha'] = abundacia_res['Date']\n",
    "        abundacia_res.drop('Date', axis=1, inplace=True)\n",
    "\n",
    "        capital_financiero_res['Fecha'] = capital_financiero_res['Date']\n",
    "        capital_financiero_res.drop('Date', axis=1, inplace=True)\n",
    "\n",
    "#         eco_df['Fecha'] = eco_df['Date']\n",
    "#         eco_df.drop('Date', axis=1, inplace=True)\n",
    "        \n",
    "        # Merge\n",
    "        res = prereclutas_res.copy()\n",
    "        res = pd.merge(res, abundacia_res, on='Fecha', how='left')\n",
    "        res = pd.merge(res, capital_financiero_res, on='Fecha', how='left')\n",
    "        \n",
    "        res = pd.merge(res, eco_df, on='Fecha', how='left')\n",
    "        res = pd.merge(res, gan_df, on='Fecha', how='left')\n",
    "        res = pd.merge(res, kfg_df, on='Fecha', how='left')\n",
    "        \n",
    "        res = pd.merge(res, oro_df, on='Fecha', how='left')\n",
    "        res = pd.merge(res, kfmin_df, on='Fecha', how='left')\n",
    "        \n",
    "        for name_col in res.columns:\n",
    "            res.loc[res[name_col].isna(), name_col] = 0\n",
    "        \n",
    "        res_merged = res.copy()\n",
    "        \n",
    "        display(HTML(res.to_html()))\n",
    "        cond_ini_merge = True\n",
    "        print('Copy to clipboard.')\n",
    "        @interact_manual()\n",
    "        def copy():\n",
    "            res.to_clipboard(index=False)\n",
    "        \n",
    "    else:\n",
    "        print('Se requiere ejecutar todos los modelos')"
   ]
  },
  {
   "cell_type": "markdown",
   "id": "328a8388",
   "metadata": {},
   "source": [
    "<h2><center>Medios de vida<br>(Capital financiero, físico, humano y social)</center></h2>\n",
    "\n",
    "<p><b>Capital Social</b></p>\n",
    "\n",
    "![kst](Capitales/kst.png)"
   ]
  },
  {
   "cell_type": "code",
   "execution_count": null,
   "id": "5a14bad9",
   "metadata": {},
   "outputs": [],
   "source": [
    "@interact_manual()\n",
    "def capSocial():\n",
    "    if cond_ini_merge == True:\n",
    "        \n",
    "        global cond_ini_kst, kst_df\n",
    "        \n",
    "        init_val = 0\n",
    "        para = {'Tasa de vinculación comunitaria':0.4,\n",
    "                'Tasa de grupo de apoyo ante eventos':0.4,\n",
    "                'Tasa de percepción positiva de ayudas del gobierno':0.4,\n",
    "                'Tasa de vinculación productiva':0.4,\n",
    "                'Tasa de percepción de funcionalidad':0.4,\n",
    "                'Tasa de no vinculación con organizaciones relacionadas a eventos externos':0.4,\n",
    "                'Tasa de vinculación familiar':0.4,\n",
    "                'Union de la comunidad ante eventos':0.4}\n",
    "        \n",
    "        list_date = res_merged['Fecha'] #['2022-01-01', '2022-02-01', '2022-03-01']\n",
    "        \n",
    "        res = mainkst(init_val, para, list_date, clima_tipo)\n",
    "        kst_df = res.copy()\n",
    "        \n",
    "        print('Modelo de capital social ejecutado.')\n",
    "        cond_ini_kst = True\n",
    "        \n",
    "        display(HTML(res.to_html()))\n",
    "        \n",
    "        for name_col in res.columns[res.columns != 'Fecha']:\n",
    "            res_merged[name_col] = res[name_col]\n",
    "        \n",
    "        print('Modelo de capital social ejecutado.')\n",
    "        print('Copy to clipboard.')\n",
    "        @interact_manual()\n",
    "        def copy():\n",
    "            res.to_clipboard(index=False)\n",
    "    else:\n",
    "        print('Por favor, selecione la trayectoria.')"
   ]
  },
  {
   "cell_type": "markdown",
   "id": "c97833fa",
   "metadata": {},
   "source": [
    "<p><b>Capital Humano</b></p>\n",
    "\n",
    "![kht](Capitales/kht.png)"
   ]
  },
  {
   "cell_type": "code",
   "execution_count": null,
   "id": "436708c8",
   "metadata": {},
   "outputs": [],
   "source": [
    "@interact_manual()\n",
    "def capHumano():\n",
    "    if cond_ini_merge == True:\n",
    "        \n",
    "        global cond_ini_kht, kht_df\n",
    "        \n",
    "        init_val = 0\n",
    "        list_date = res_merged['Fecha'] # ['2022-01-01', '2022-02-01', '2022-03-01']\n",
    "        para = {'Hogares' : 100,\n",
    "                'Número de hogares que migraron debido a la inundacion' : 20,\n",
    "                'Número de hogares que migraron debido a la sequia' : 30,\n",
    "                'Porcentaje estado de salud - [0-100]': 60,\n",
    "                'Actividad desarrollada - agricultura': 2,\n",
    "                'Actividad desarrollada - ganaderia': 5,\n",
    "                'Actividad desarrollada - pesca': 7,\n",
    "                'Actividad desarrollada - forestal': 12,\n",
    "                'Actividad desarrollada - comercio': 1,\n",
    "                'Actividad desarrollada - actividad de campo': 3,\n",
    "                'Actividad desarrollada - actividad no agropecuaria': 7,\n",
    "                'Actividad desarrollada - Combinación': 5,\n",
    "                'Nivel de educación': 'Básica Primaria'}\n",
    "        res = mainkht(init_val, para, list_date, clima_tipo)\n",
    "        kht_df = res.copy()\n",
    "        \n",
    "        for name_col in res.columns[res.columns != 'Fecha']:\n",
    "            res_merged[name_col] = res[name_col]\n",
    "        \n",
    "        cond_ini_kht = True\n",
    "        \n",
    "        display(HTML(res.to_html()))\n",
    "        print('Modelo de capital humano ejecutado.')\n",
    "        print('Copy to clipboard.')\n",
    "        @interact_manual()\n",
    "        def copy():\n",
    "            res.to_clipboard(index=False)\n",
    "        \n",
    "    else:\n",
    "        print('Por favor, selecione la trayectoria.')"
   ]
  },
  {
   "cell_type": "markdown",
   "id": "d6415b60",
   "metadata": {},
   "source": [
    "<p>Los capitales se calcula a partir de las relaciones mostradas en los siguientes diagrámas de Forrester.</p>\n",
    "\n",
    "<p><b>Capital Físico</b></p>\n",
    "\n",
    "![kfit](Capitales/kfit.png)"
   ]
  },
  {
   "cell_type": "code",
   "execution_count": null,
   "id": "b919c2c0",
   "metadata": {},
   "outputs": [],
   "source": [
    "@interact_manual()\n",
    "def capFisico():\n",
    "    if cond_ini_merge == True and cond_ini_kst == True and cond_ini_kht == True:\n",
    "        \n",
    "        init_val = 0\n",
    "        para = {'Vivienda - Propia' : 0.4,\n",
    "                'Vivienda - Arriendo' : 0.4,\n",
    "                'Vivienda - Aparceria' : 0.4,\n",
    "                'Vivienda - Usufructo' : 0.4,\n",
    "                'Vivienda - Comodato' : 0.4,\n",
    "                'Vivienda - Ocupación de hecho' : 0.4,\n",
    "                'Vivienda - Propiedad colectiva' : 0.4,\n",
    "                'Vivienda - Adjudicatario' : 0.4,\n",
    "                'Porcentaje de no obtención - Automovil o moto' : 0.4,\n",
    "                'Porcentaje de no obtención - Tractor' : 0.4,\n",
    "                'Porcentaje de no obtención - Inta. especiales' : 0.4,\n",
    "                'Porcentaje de no obtención - Herr. agrícolas' : 0.4,\n",
    "                'Porcentaje de SI actuación miembros del hogar' : 0.4,\n",
    "                'Promedio de rangos de uso de la tierra' : 0.4,\n",
    "                'rango' : 0.2}\n",
    "        \n",
    "        n_paso_tmp = len(kst_df)\n",
    "        kht_df = pd.DataFrame(data={'Experiencia manejo de eventos': [0.5] * n_paso_tmp})\n",
    "        print('Falta la aclaración para el cálculo de la experiencia manerjo de eventos')\n",
    "\n",
    "        res = mainkfitt(init_val, para,\n",
    "                        kst_df, kht_df)\n",
    "        cond_ini_kfitt = True\n",
    "        \n",
    "        for name_col in res.columns[res.columns != 'Fecha']:\n",
    "            res_merged[name_col] = res[name_col]\n",
    "        \n",
    "        display(HTML(res.to_html()))\n",
    "        print('Modelo de capital físico ejecutado.')\n",
    "        print('Copy to clipboard.')\n",
    "        @interact_manual()\n",
    "        def copy():\n",
    "            res.to_clipboard(index=False)\n",
    "    else:\n",
    "        print('Se requiere ejecutar los modelos de capital humano y capital social')"
   ]
  },
  {
   "cell_type": "markdown",
   "id": "b4c84e5d",
   "metadata": {},
   "source": [
    "<p><b>Capital Finaiciero</b></p>\n",
    "\n",
    "![kft](Capitales/kft.png)"
   ]
  },
  {
   "cell_type": "code",
   "execution_count": null,
   "id": "722ae260",
   "metadata": {},
   "outputs": [],
   "source": [
    "@interact_manual()\n",
    "def capFinanciero():\n",
    "    if cond_ini_merge == True:\n",
    "        \n",
    "        global cond_ini_kft\n",
    "        \n",
    "        para = {'Agricultura, especies menores, pesca' : 87251,\n",
    "                'Agricultura y especies menores' : 116207,\n",
    "                'Agricultura, especies menores, Actividades no agropecuarias' : 93367,\n",
    "\n",
    "                'Agricultura, especies menores, pesca - 1' : 120588,\n",
    "                'Agricultura, especies menores, Actividades no agropecuarias 1' : 207143,\n",
    "                'Agricultura y especies menores - 1' : 81531,\n",
    "\n",
    "                'Agricultura, especies menores, pesca - 2' : 185516,\n",
    "                'Agricultura, especies menores, Actividades no agropecuarias 2' : 256650,\n",
    "                'Agricultura y especies menores - 2' : 143353,\n",
    "\n",
    "                'Agricultura, especies menores, pesca - 3' : 4064694,\n",
    "                'Agricultura, especies menores, Actividades no agropecuarias 3' : 6826230,\n",
    "                'Agricultura y especies menores - 3' : 5839102,\n",
    "\n",
    "                'Salario mínimo legal vigente - 2020' : 877802\n",
    "                }\n",
    "\n",
    "        \n",
    "        agric_kf_df = pd.DataFrame(data={'Fecha': res_merged['Fecha'],\n",
    "                                         'Costos agricolas' : [10000] * len(res_merged),\n",
    "                                         'Ventas agrícolas' : [12000000] * len(res_merged)})\n",
    "        print('Falta agregar resultados del modelo agrícola')\n",
    "        \n",
    "        res = mainkft(0, para, \n",
    "                      res_merged, res_merged,\n",
    "                      res_merged, agric_kf_df)\n",
    "        \n",
    "        cond_ini_kft = True\n",
    "        \n",
    "        for name_col in res.columns[res.columns != 'Fecha']:\n",
    "            res_merged[name_col] = res[name_col]\n",
    "        \n",
    "        display(HTML(res.to_html()))\n",
    "        print('Modelo de capital financiero ejecutado.')\n",
    "        print('Copy to clipboard.')\n",
    "        @interact_manual()\n",
    "        def copy():\n",
    "            res.to_clipboard(index=False)\n",
    "        \n",
    "    else:\n",
    "        print('Se requiere obtener los modelos en conjunto')"
   ]
  },
  {
   "cell_type": "markdown",
   "id": "cb775232",
   "metadata": {},
   "source": [
    "Dibujar las gráficas de todas las variables modeladas"
   ]
  },
  {
   "cell_type": "code",
   "execution_count": null,
   "id": "a280e7df",
   "metadata": {},
   "outputs": [],
   "source": [
    "@interact_manual()\n",
    "def draw_results():\n",
    "    for name_col in res_merged.columns[res_merged.columns != 'Fecha']:\n",
    "        \n",
    "        fig, ax = plt.subplots(1, 1, figsize=(15, 10) )\n",
    "        ax.plot(res_merged['Fecha'], res_merged[name_col])\n",
    "        ax.set_title(name_col)\n",
    "        ax.grid()\n",
    "        plt.show()"
   ]
  }
 ],
 "metadata": {
  "kernelspec": {
   "display_name": "Python 3 (ipykernel)",
   "language": "python",
   "name": "python3"
  },
  "language_info": {
   "codemirror_mode": {
    "name": "ipython",
    "version": 3
   },
   "file_extension": ".py",
   "mimetype": "text/x-python",
   "name": "python",
   "nbconvert_exporter": "python",
   "pygments_lexer": "ipython3",
   "version": "3.7.11"
  }
 },
 "nbformat": 4,
 "nbformat_minor": 5
}
